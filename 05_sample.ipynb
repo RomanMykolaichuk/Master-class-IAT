{
 "cells": [
  {
   "cell_type": "code",
   "execution_count": 1,
   "metadata": {},
   "outputs": [
    {
     "name": "stdout",
     "output_type": "stream",
     "text": [
      "8\n"
     ]
    }
   ],
   "source": [
    "#Робота зі списками: Напишіть функцію, яка приймає список чисел і повертає його максимальний елемент.\n",
    "def find_max(numbers):\n",
    "  max_num = numbers[0]\n",
    "  \n",
    "  for num in numbers:\n",
    "    if num > max_num:\n",
    "      max_num = num\n",
    "      \n",
    "  return max_num\n",
    "\n",
    "numbers = [5, 2, 8, 3]\n",
    "max_num = find_max(numbers) \n",
    "print(max_num) # виведе 8\n"
   ]
  },
  {
   "cell_type": "code",
   "execution_count": 3,
   "metadata": {},
   "outputs": [
    {
     "data": {
      "text/plain": [
       "3.0"
      ]
     },
     "execution_count": 3,
     "metadata": {},
     "output_type": "execute_result"
    }
   ],
   "source": [
    "#середнє арифметичне двох чисел\n",
    "# Calculates the arithmetic mean of two numbers\n",
    "def arithmetic_mean(a, b):\n",
    "    return (a + b) / 2\n",
    "\n",
    "\"\"\"\n",
    "Calculates the arithmetic mean of two numbers.\n",
    "\n",
    "Args:\n",
    "  a (number): The first number\n",
    "  b (number): The second number\n",
    "  \n",
    "Returns:\n",
    "  number: The arithmetic mean of a and b\n",
    "\"\"\"\n",
    "arithmetic_mean(2, 4)\n",
    "\n",
    "\n",
    "\n"
   ]
  }
 ],
 "metadata": {
  "kernelspec": {
   "display_name": "Python 3",
   "language": "python",
   "name": "python3"
  },
  "language_info": {
   "codemirror_mode": {
    "name": "ipython",
    "version": 3
   },
   "file_extension": ".py",
   "mimetype": "text/x-python",
   "name": "python",
   "nbconvert_exporter": "python",
   "pygments_lexer": "ipython3",
   "version": "3.11.3"
  }
 },
 "nbformat": 4,
 "nbformat_minor": 2
}
